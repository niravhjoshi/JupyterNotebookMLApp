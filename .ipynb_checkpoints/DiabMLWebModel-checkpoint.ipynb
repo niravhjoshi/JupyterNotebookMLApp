{
 "cells": [
  {
   "cell_type": "code",
   "execution_count": 57,
   "metadata": {},
   "outputs": [],
   "source": [
    "import pandas as pd\n",
    "import json\n",
    "import numpy as np\n",
    "import matplotlib.pyplot as plt\n",
    "import seaborn as sns\n",
    "from datetime import datetime\n",
    "import xgboost as xg \n",
    "from sklearn.model_selection import train_test_split \n",
    "from sklearn.metrics import mean_squared_error as MSE \n",
    "from sklearn.ensemble import RandomForestClassifier\n",
    "from sklearn.model_selection import train_test_split\n",
    "from sklearn.metrics import classification_report, confusion_matrix, accuracy_score,precision_score,recall_score,f1_score\n",
    "import pickle\n",
    "\n"
   ]
  },
  {
   "cell_type": "code",
   "execution_count": 62,
   "metadata": {},
   "outputs": [
    {
     "name": "stdout",
     "output_type": "stream",
     "text": [
      "              precision    recall  f1-score   support\n",
      "\n",
      "           0       0.71      0.59      0.65        34\n",
      "           1       0.36      0.50      0.42        16\n",
      "\n",
      "    accuracy                           0.56        50\n",
      "   macro avg       0.54      0.54      0.53        50\n",
      "weighted avg       0.60      0.56      0.57        50\n",
      "\n"
     ]
    },
    {
     "data": {
      "text/plain": [
       "0.56"
      ]
     },
     "execution_count": 62,
     "metadata": {},
     "output_type": "execute_result"
    }
   ],
   "source": [
    "#GET /CallDiabPredictionModel\n",
    "req = json.loads(REQUEST)\n",
    "args = req['args']\n",
    "print (args)\n",
    "if 'csvFilePath' not in args and 'HperParam' not in args:\n",
    "  print(json.dumps({'No Data Received': None}))\n",
    "else:\n",
    "  csvFilePath = str(args['csvFilePath'][0])\n",
    "  print(csvFilePath)\n",
    "  HperParam = int(args['HperParam'][0])\n",
    "  print(HperParam)\n",
    "\n",
    "\n",
    "csvFilePath=\"/home/nirav/HackProjectNoteBoks/modeldatabase/CleanDiabData.csv\"\n",
    "df = pd.read_csv(csvFilePath)\n",
    "df.head()\n",
    "X = df.drop(\"DiabetesStatus\", axis=1)\n",
    "y = df[\"DiabetesStatus\"]\n",
    "\n",
    "clf = RandomForestClassifier()\n",
    "X_train, X_test, y_train, y_test = train_test_split(X, y, test_size=0.2)\n",
    "clf.fit(X_train, y_train);\n",
    "y_preds = clf.predict(X_test)\n",
    "#baseline_metrics = evaluate_preds(y_test, y_preds)\n",
    "clf.score(X_train, y_train)\n",
    "clf.score(X_test, y_test)\n",
    "print(classification_report(y_test, y_preds))\n",
    "accuracy_score(y_test, y_preds)\n",
    "np.random.seed(25)\n",
    "pickle.dump(clf, open(\"/home/nirav/HackProjectNoteBoks/model/random_forst_model_Nirav.pkl\", \"wb\"))\n",
    "loaded_model = pickle.load(open(\"/home/nirav/HackProjectNoteBoks/model/random_forst_model_Nirav.pkl\", \"rb\"))\n",
    "loaded_model.score(X_test, y_test)\n"
   ]
  },
  {
   "cell_type": "code",
   "execution_count": null,
   "metadata": {},
   "outputs": [],
   "source": []
  }
 ],
 "metadata": {
  "kernelspec": {
   "display_name": "Python 3",
   "language": "python",
   "name": "python3"
  },
  "language_info": {
   "codemirror_mode": {
    "name": "ipython",
    "version": 3
   },
   "file_extension": ".py",
   "mimetype": "text/x-python",
   "name": "python",
   "nbconvert_exporter": "python",
   "pygments_lexer": "ipython3",
   "version": "3.8.3"
  }
 },
 "nbformat": 4,
 "nbformat_minor": 4
}
